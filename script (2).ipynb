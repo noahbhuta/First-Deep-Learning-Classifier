{
 "cells": [
  {
   "cell_type": "code",
   "execution_count": null,
   "id": "ad52b268",
   "metadata": {},
   "outputs": [],
   "source": [
    "# In this project I will use a deep learning classification model to predict the survival of patients with heart failure\n",
    "\n",
    "# heart_failure.csv provided by Kaggle"
   ]
  },
  {
   "cell_type": "code",
   "execution_count": 190,
   "id": "00d50e9c",
   "metadata": {},
   "outputs": [],
   "source": [
    "import pandas as pd\n",
    "from sklearn.preprocessing import StandardScaler, LabelEncoder\n",
    "from sklearn.model_selection import train_test_split\n",
    "from collections import Counter\n",
    "from sklearn.compose import ColumnTransformer\n",
    "from tensorflow.keras.models import Sequential\n",
    "from tensorflow.keras.layers import Dense, InputLayer\n",
    "from sklearn.metrics import classification_report\n",
    "from tensorflow.keras.utils import to_categorical\n",
    "import numpy as np"
   ]
  },
  {
   "cell_type": "code",
   "execution_count": 191,
   "id": "59865214",
   "metadata": {},
   "outputs": [],
   "source": [
    "data = pd.read_csv('heart_failure.csv')"
   ]
  },
  {
   "cell_type": "code",
   "execution_count": 192,
   "id": "f848eda1",
   "metadata": {},
   "outputs": [
    {
     "name": "stdout",
     "output_type": "stream",
     "text": [
      "<bound method DataFrame.info of      Unnamed: 0   age anaemia  creatinine_phosphokinase diabetes  \\\n",
      "0             0  75.0      no                       582       no   \n",
      "1             1  55.0      no                      7861       no   \n",
      "2             2  65.0      no                       146       no   \n",
      "3             3  50.0     yes                       111       no   \n",
      "4             4  65.0     yes                       160      yes   \n",
      "..          ...   ...     ...                       ...      ...   \n",
      "294         294  62.0      no                        61      yes   \n",
      "295         295  55.0      no                      1820       no   \n",
      "296         296  45.0      no                      2060      yes   \n",
      "297         297  45.0      no                      2413       no   \n",
      "298         298  50.0      no                       196       no   \n",
      "\n",
      "     ejection_fraction high_blood_pressure  platelets  serum_creatinine  \\\n",
      "0                   20                 yes  265000.00               1.9   \n",
      "1                   38                  no  263358.03               1.1   \n",
      "2                   20                  no  162000.00               1.3   \n",
      "3                   20                  no  210000.00               1.9   \n",
      "4                   20                  no  327000.00               2.7   \n",
      "..                 ...                 ...        ...               ...   \n",
      "294                 38                 yes  155000.00               1.1   \n",
      "295                 38                  no  270000.00               1.2   \n",
      "296                 60                  no  742000.00               0.8   \n",
      "297                 38                  no  140000.00               1.4   \n",
      "298                 45                  no  395000.00               1.6   \n",
      "\n",
      "     serum_sodium  sex smoking  time  DEATH_EVENT death_event  \n",
      "0             130  yes      no     4            1         yes  \n",
      "1             136  yes      no     6            1         yes  \n",
      "2             129  yes     yes     7            1         yes  \n",
      "3             137  yes      no     7            1         yes  \n",
      "4             116   no      no     8            1         yes  \n",
      "..            ...  ...     ...   ...          ...         ...  \n",
      "294           143  yes     yes   270            0          no  \n",
      "295           139   no      no   271            0          no  \n",
      "296           138   no      no   278            0          no  \n",
      "297           140  yes     yes   280            0          no  \n",
      "298           136  yes     yes   285            0          no  \n",
      "\n",
      "[299 rows x 15 columns]>\n"
     ]
    }
   ],
   "source": [
    "print(data.info)"
   ]
  },
  {
   "cell_type": "code",
   "execution_count": 211,
   "id": "a26a149d",
   "metadata": {},
   "outputs": [
    {
     "name": "stdout",
     "output_type": "stream",
     "text": [
      "Index(['Unnamed: 0', 'age', 'anaemia', 'creatinine_phosphokinase', 'diabetes',\n",
      "       'ejection_fraction', 'high_blood_pressure', 'platelets',\n",
      "       'serum_creatinine', 'serum_sodium', 'sex', 'smoking', 'time',\n",
      "       'DEATH_EVENT', 'death_event'],\n",
      "      dtype='object')\n"
     ]
    }
   ],
   "source": [
    "print(data.columns)"
   ]
  },
  {
   "cell_type": "code",
   "execution_count": 193,
   "id": "15edd0d9",
   "metadata": {},
   "outputs": [
    {
     "name": "stdout",
     "output_type": "stream",
     "text": [
      "Counter({'no': 203, 'yes': 96})\n"
     ]
    }
   ],
   "source": [
    "print(Counter(data['death_event']))"
   ]
  },
  {
   "cell_type": "code",
   "execution_count": 194,
   "id": "c4fda9d4",
   "metadata": {},
   "outputs": [],
   "source": [
    "y = data['death_event']"
   ]
  },
  {
   "cell_type": "code",
   "execution_count": 195,
   "id": "46135861",
   "metadata": {},
   "outputs": [],
   "source": [
    "x = data[['age','anaemia','creatinine_phosphokinase','diabetes','ejection_fraction','high_blood_pressure','platelets','serum_creatinine','serum_sodium','sex','smoking','time']]"
   ]
  },
  {
   "cell_type": "code",
   "execution_count": 196,
   "id": "016c38ae",
   "metadata": {},
   "outputs": [],
   "source": [
    "x = pd.get_dummies(x)"
   ]
  },
  {
   "cell_type": "code",
   "execution_count": 197,
   "id": "c3580818",
   "metadata": {},
   "outputs": [],
   "source": [
    "X_train, X_test, Y_train, Y_test = train_test_split(x, y, test_size = .2, random_state = 10)"
   ]
  },
  {
   "cell_type": "code",
   "execution_count": 198,
   "id": "4a38acd4",
   "metadata": {},
   "outputs": [],
   "source": [
    "ct = ColumnTransformer([('numeric',StandardScaler(),['age','creatinine_phosphokinase','ejection_fraction','platelets','serum_creatinine','serum_sodium','time'])])"
   ]
  },
  {
   "cell_type": "code",
   "execution_count": 199,
   "id": "811a0909",
   "metadata": {},
   "outputs": [],
   "source": [
    "X_train = ct.fit_transform(X_train)\n",
    "X_test = ct.transform(X_test)"
   ]
  },
  {
   "cell_type": "code",
   "execution_count": 200,
   "id": "0adec737",
   "metadata": {},
   "outputs": [],
   "source": [
    "le = LabelEncoder()"
   ]
  },
  {
   "cell_type": "code",
   "execution_count": 201,
   "id": "35fe94d3",
   "metadata": {},
   "outputs": [],
   "source": [
    "Y_train = le.fit_transform(Y_train.astype(str))\n",
    "Y_train = to_categorical(Y_train)"
   ]
  },
  {
   "cell_type": "code",
   "execution_count": 202,
   "id": "d685705e",
   "metadata": {},
   "outputs": [],
   "source": [
    "Y_test = le.transform(Y_test.astype(str))\n",
    "Y_test = to_categorical(Y_test)"
   ]
  },
  {
   "cell_type": "code",
   "execution_count": 203,
   "id": "44db8a82",
   "metadata": {},
   "outputs": [],
   "source": [
    "model = Sequential()\n",
    "\n",
    "model.add(InputLayer(input_shape = (X_train.shape[1],) ))\n",
    "model.add(Dense(12, activation = 'relu'))\n",
    "model.add(Dense(2, activation ='softmax'))"
   ]
  },
  {
   "cell_type": "code",
   "execution_count": 204,
   "id": "e2378f97",
   "metadata": {},
   "outputs": [],
   "source": [
    "model.compile(loss = 'categorical_crossentropy', optimizer = 'adam', metrics = ['accuracy'])"
   ]
  },
  {
   "cell_type": "code",
   "execution_count": 205,
   "id": "c6ad7d93",
   "metadata": {},
   "outputs": [
    {
     "name": "stdout",
     "output_type": "stream",
     "text": [
      "Epoch 1/50\n",
      "120/120 [==============================] - 1s 4ms/step - loss: 0.5341 - accuracy: 0.7531\n",
      "Epoch 2/50\n",
      "120/120 [==============================] - 1s 5ms/step - loss: 0.4647 - accuracy: 0.8075\n",
      "Epoch 3/50\n",
      "120/120 [==============================] - 1s 5ms/step - loss: 0.4241 - accuracy: 0.8243\n",
      "Epoch 4/50\n",
      "120/120 [==============================] - 1s 4ms/step - loss: 0.3964 - accuracy: 0.8452\n",
      "Epoch 5/50\n",
      "120/120 [==============================] - 1s 4ms/step - loss: 0.3785 - accuracy: 0.8494\n",
      "Epoch 6/50\n",
      "120/120 [==============================] - 1s 4ms/step - loss: 0.3652 - accuracy: 0.8536\n",
      "Epoch 7/50\n",
      "120/120 [==============================] - 1s 4ms/step - loss: 0.3540 - accuracy: 0.8661\n",
      "Epoch 8/50\n",
      "120/120 [==============================] - 1s 5ms/step - loss: 0.3461 - accuracy: 0.8536\n",
      "Epoch 9/50\n",
      "120/120 [==============================] - 1s 5ms/step - loss: 0.3397 - accuracy: 0.8619\n",
      "Epoch 10/50\n",
      "120/120 [==============================] - 1s 4ms/step - loss: 0.3349 - accuracy: 0.8577\n",
      "Epoch 11/50\n",
      "120/120 [==============================] - 1s 4ms/step - loss: 0.3296 - accuracy: 0.8619\n",
      "Epoch 12/50\n",
      "120/120 [==============================] - 1s 4ms/step - loss: 0.3255 - accuracy: 0.8661\n",
      "Epoch 13/50\n",
      "120/120 [==============================] - 1s 4ms/step - loss: 0.3213 - accuracy: 0.8703\n",
      "Epoch 14/50\n",
      "120/120 [==============================] - 1s 5ms/step - loss: 0.3183 - accuracy: 0.8703\n",
      "Epoch 15/50\n",
      "120/120 [==============================] - 0s 4ms/step - loss: 0.3147 - accuracy: 0.8661\n",
      "Epoch 16/50\n",
      "120/120 [==============================] - 1s 4ms/step - loss: 0.3125 - accuracy: 0.8619\n",
      "Epoch 17/50\n",
      "120/120 [==============================] - 1s 5ms/step - loss: 0.3097 - accuracy: 0.8703\n",
      "Epoch 18/50\n",
      "120/120 [==============================] - 0s 3ms/step - loss: 0.3068 - accuracy: 0.8661\n",
      "Epoch 19/50\n",
      "120/120 [==============================] - 1s 5ms/step - loss: 0.3039 - accuracy: 0.8703\n",
      "Epoch 20/50\n",
      "120/120 [==============================] - 1s 6ms/step - loss: 0.3015 - accuracy: 0.8787\n",
      "Epoch 21/50\n",
      "120/120 [==============================] - 0s 4ms/step - loss: 0.2986 - accuracy: 0.8703\n",
      "Epoch 22/50\n",
      "120/120 [==============================] - 0s 3ms/step - loss: 0.2980 - accuracy: 0.8745\n",
      "Epoch 23/50\n",
      "120/120 [==============================] - 0s 3ms/step - loss: 0.2949 - accuracy: 0.8703\n",
      "Epoch 24/50\n",
      "120/120 [==============================] - 0s 3ms/step - loss: 0.2936 - accuracy: 0.8745\n",
      "Epoch 25/50\n",
      "120/120 [==============================] - 0s 3ms/step - loss: 0.2913 - accuracy: 0.8745\n",
      "Epoch 26/50\n",
      "120/120 [==============================] - 0s 4ms/step - loss: 0.2898 - accuracy: 0.8745\n",
      "Epoch 27/50\n",
      "120/120 [==============================] - 0s 4ms/step - loss: 0.2880 - accuracy: 0.8745\n",
      "Epoch 28/50\n",
      "120/120 [==============================] - 1s 4ms/step - loss: 0.2862 - accuracy: 0.8745\n",
      "Epoch 29/50\n",
      "120/120 [==============================] - 1s 5ms/step - loss: 0.2850 - accuracy: 0.8787\n",
      "Epoch 30/50\n",
      "120/120 [==============================] - 1s 5ms/step - loss: 0.2827 - accuracy: 0.8745\n",
      "Epoch 31/50\n",
      "120/120 [==============================] - 0s 4ms/step - loss: 0.2812 - accuracy: 0.8745\n",
      "Epoch 32/50\n",
      "120/120 [==============================] - 1s 5ms/step - loss: 0.2808 - accuracy: 0.8787\n",
      "Epoch 33/50\n",
      "120/120 [==============================] - 1s 5ms/step - loss: 0.2783 - accuracy: 0.8745\n",
      "Epoch 34/50\n",
      "120/120 [==============================] - 1s 5ms/step - loss: 0.2774 - accuracy: 0.8787\n",
      "Epoch 35/50\n",
      "120/120 [==============================] - 1s 5ms/step - loss: 0.2762 - accuracy: 0.8745\n",
      "Epoch 36/50\n",
      "120/120 [==============================] - 0s 3ms/step - loss: 0.2736 - accuracy: 0.8787\n",
      "Epoch 37/50\n",
      "120/120 [==============================] - 0s 3ms/step - loss: 0.2726 - accuracy: 0.8745\n",
      "Epoch 38/50\n",
      "120/120 [==============================] - 0s 3ms/step - loss: 0.2712 - accuracy: 0.8787\n",
      "Epoch 39/50\n",
      "120/120 [==============================] - 0s 2ms/step - loss: 0.2706 - accuracy: 0.8828\n",
      "Epoch 40/50\n",
      "120/120 [==============================] - 0s 3ms/step - loss: 0.2699 - accuracy: 0.8787\n",
      "Epoch 41/50\n",
      "120/120 [==============================] - 0s 3ms/step - loss: 0.2669 - accuracy: 0.8828\n",
      "Epoch 42/50\n",
      "120/120 [==============================] - 0s 3ms/step - loss: 0.2660 - accuracy: 0.8745\n",
      "Epoch 43/50\n",
      "120/120 [==============================] - 0s 3ms/step - loss: 0.2665 - accuracy: 0.8787\n",
      "Epoch 44/50\n",
      "120/120 [==============================] - 0s 3ms/step - loss: 0.2643 - accuracy: 0.8787\n",
      "Epoch 45/50\n",
      "120/120 [==============================] - 0s 3ms/step - loss: 0.2616 - accuracy: 0.8787\n",
      "Epoch 46/50\n",
      "120/120 [==============================] - 0s 3ms/step - loss: 0.2608 - accuracy: 0.8745\n",
      "Epoch 47/50\n",
      "120/120 [==============================] - 0s 3ms/step - loss: 0.2590 - accuracy: 0.8703\n",
      "Epoch 48/50\n",
      "120/120 [==============================] - 0s 3ms/step - loss: 0.2584 - accuracy: 0.8745\n",
      "Epoch 49/50\n",
      "120/120 [==============================] - 0s 2ms/step - loss: 0.2574 - accuracy: 0.8787\n",
      "Epoch 50/50\n",
      "120/120 [==============================] - 0s 2ms/step - loss: 0.2553 - accuracy: 0.8745\n"
     ]
    },
    {
     "data": {
      "text/plain": [
       "<keras.callbacks.History at 0x1d871726ca0>"
      ]
     },
     "execution_count": 205,
     "metadata": {},
     "output_type": "execute_result"
    }
   ],
   "source": [
    "\n",
    "model.fit(X_train, Y_train, epochs = 50, batch_size = 2, verbose=1)"
   ]
  },
  {
   "cell_type": "code",
   "execution_count": 206,
   "id": "f6b998c8",
   "metadata": {},
   "outputs": [
    {
     "name": "stdout",
     "output_type": "stream",
     "text": [
      "2/2 [==============================] - 0s 4ms/step - loss: 0.6068 - accuracy: 0.7167\n"
     ]
    }
   ],
   "source": [
    "loss, acc = model.evaluate(X_test, Y_test)"
   ]
  },
  {
   "cell_type": "code",
   "execution_count": 207,
   "id": "36c10164",
   "metadata": {},
   "outputs": [],
   "source": [
    "y_estimate = model.predict(X_test, verbose =0)"
   ]
  },
  {
   "cell_type": "code",
   "execution_count": 208,
   "id": "af273663",
   "metadata": {},
   "outputs": [],
   "source": [
    "y_estimate = np.argmax(y_estimate, axis = 1)"
   ]
  },
  {
   "cell_type": "code",
   "execution_count": 209,
   "id": "9bc60a53",
   "metadata": {},
   "outputs": [],
   "source": [
    "y_true = np.argmax(Y_test, axis = 1)"
   ]
  },
  {
   "cell_type": "code",
   "execution_count": 210,
   "id": "7d56fbc7",
   "metadata": {},
   "outputs": [
    {
     "name": "stdout",
     "output_type": "stream",
     "text": [
      "              precision    recall  f1-score   support\n",
      "\n",
      "           0       0.86      0.72      0.78        43\n",
      "           1       0.50      0.71      0.59        17\n",
      "\n",
      "    accuracy                           0.72        60\n",
      "   macro avg       0.68      0.71      0.69        60\n",
      "weighted avg       0.76      0.72      0.73        60\n",
      "\n"
     ]
    }
   ],
   "source": [
    "print(classification_report(y_true, y_estimate))"
   ]
  },
  {
   "cell_type": "code",
   "execution_count": null,
   "id": "7a8e4af8",
   "metadata": {},
   "outputs": [],
   "source": [
    "# Conclusion: My model successfully classified if a patient survived a cardiovascular disease with an accuracy of 72 percent.\n",
    "# By analyzing some of the features I used such as smoking, diabetes, etc., doctors can start preventative treatment earlier."
   ]
  }
 ],
 "metadata": {
  "kernelspec": {
   "display_name": "Python 3 (ipykernel)",
   "language": "python",
   "name": "python3"
  },
  "language_info": {
   "codemirror_mode": {
    "name": "ipython",
    "version": 3
   },
   "file_extension": ".py",
   "mimetype": "text/x-python",
   "name": "python",
   "nbconvert_exporter": "python",
   "pygments_lexer": "ipython3",
   "version": "3.9.12"
  }
 },
 "nbformat": 4,
 "nbformat_minor": 5
}
